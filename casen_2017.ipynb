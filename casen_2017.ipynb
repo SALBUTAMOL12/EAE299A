{
 "cells": [
  {
   "cell_type": "markdown",
   "metadata": {},
   "source": [
    "# LIBRERIAS Y CARGA DE DATOS"
   ]
  },
  {
   "cell_type": "markdown",
   "metadata": {},
   "source": [
    "## LIBRERIAS"
   ]
  },
  {
   "cell_type": "code",
   "execution_count": 14,
   "metadata": {},
   "outputs": [],
   "source": [
    "import pandas as pd\n",
    "import numpy as np\n",
    "import statsmodels.api as sm\n",
    "import xgboost as xgb\n",
    "from sklearn.linear_model import Lasso\n",
    "from sklearn.ensemble import RandomForestRegressor\n",
    "from sklearn.model_selection import GridSearchCV, RandomizedSearchCV, cross_val_predict\n",
    "from sklearn.metrics import r2_score\n",
    "from joblib import dump\n",
    "from os.path import join"
   ]
  },
  {
   "cell_type": "code",
   "execution_count": 15,
   "metadata": {},
   "outputs": [],
   "source": [
    "pd.set_option('display.float_format', '{:.5f}'.format)"
   ]
  },
  {
   "cell_type": "markdown",
   "metadata": {},
   "source": [
    "## DATOS"
   ]
  },
  {
   "cell_type": "code",
   "execution_count": 16,
   "metadata": {},
   "outputs": [
    {
     "name": "stderr",
     "output_type": "stream",
     "text": [
      "C:\\Users\\Felipe\\AppData\\Local\\Temp\\ipykernel_21864\\3912985514.py:1: DtypeWarning: Columns (25,26,34,46,48,51,60,62,76,77,78,93,96,97,99,108,109,117,136,137,138,140,147,151,152,153,154,156,157,158,159,160,161,162,163,164,165,166,167,168,169,170,171,172,173,174,175,176,177,178,179,180,181,182,183,185,186,187,188,190,191,192,193,194,195,196,197,198,199,200,201,202,203,204,205,206,207,208,209,210,212,235,240,252,255,257,258,269,272,273,274,275,276,279,280,281,282,283,285,286,289,290,291,292,293,294,295,305,307,323,336,337,353,357,365,373,398,399,403,404,405,409,412,414,452,463,470,495,497,506,509,510,512,514,517,518,521,522,528,529,531,532,533,534,535,536,537,540,542,568) have mixed types. Specify dtype option on import or set low_memory=False.\n",
      "  df_casen = pd.read_csv(join(\"data_casen_2017\", \"casen_2017.csv\"), sep= \",\")\n"
     ]
    }
   ],
   "source": [
    "df_casen = pd.read_csv(join(\"data_casen_2017\", \"casen_2017.csv\"), sep= \",\")"
   ]
  },
  {
   "cell_type": "markdown",
   "metadata": {},
   "source": [
    "Se seleccionan solo variables relevantes"
   ]
  },
  {
   "cell_type": "code",
   "execution_count": 18,
   "metadata": {},
   "outputs": [],
   "source": [
    "df_casen = df_casen[[\"folio\", \"o\", \"nucleo\", \"esc\", \"pco1\", \"v4\",\n",
    "                     \"sexo\", \"edad\", \"numper\", \"v6\", \"v27a\", \"o1\",\n",
    "                     \"v30a\", \"zona\", \"v2\", \"v20\", \"ypch\", 'expc',\n",
    "                     'ytoth', 'ytotcorh']]\n",
    "\n",
    "df_casen['esc'] = df_casen['esc'].apply(lambda x: min(x, 21))\n",
    "df_casen['edad'] = df_casen['edad'].apply(lambda x: min(x, 100))"
   ]
  },
  {
   "cell_type": "markdown",
   "metadata": {},
   "source": [
    "# VARIABLES DISCRETAS"
   ]
  },
  {
   "cell_type": "code",
   "execution_count": 19,
   "metadata": {},
   "outputs": [],
   "source": [
    "\n",
    "# ** techo zinc\n",
    "df_casen['techo_zinc'] = df_casen['v6'].isin(['Planchas metálicas (zinc, cobre, etc.)']).astype(int)\n",
    "\n",
    "# ** techo paja\n",
    "df_casen['techo_paja'] = np.where(pd.isna(df_casen['v6']), np.nan, (df_casen['v6'] == 'Paja, coirón, totora o caña').astype(int))\n",
    "\n",
    "# ** hogar urbano\n",
    "df_casen['hogar_urbano'] = np.where(pd.isna(df_casen['zona']), np.nan, (df_casen['zona'] == 'Urbano').astype(int))\n",
    "\n",
    "# ** paredes ladrillo\n",
    "df_casen['paredes_ladrillo'] = np.where(pd.isna(df_casen['v2']), np.nan, (df_casen['v2'] == 'Albañilería (bloque de cemento, piedra o ladrillo)').astype(int))\n",
    "\n",
    "# ** paredes madera\n",
    "df_casen['paredes_madera'] = df_casen['v2'].isin(['Tabique forrado por ambas caras (madera, acero, lata u otro)', 'Tabique sin forro interior (madera u otro)']).astype(int)\n",
    "\n",
    "# ** piso radier\n",
    "df_casen['piso_radier'] = np.where(pd.isna(df_casen['v4']), np.nan, (df_casen['v4'] == 'Radier').astype(int))\n",
    "# ** piso madera\n",
    "df_casen['piso_madera'] = np.where(pd.isna(df_casen['v4']), np.nan, (df_casen['v4'] == 'Parquet, madera, piso flotante o similar').astype(int))\n",
    "\n",
    "# ** mujer jefe hogar\n",
    "df_casen['mujer_jefe_hogar'] = df_casen['folio'].isin(df_casen[(df_casen['pco1'] == 'Jefe(a) de hogar') & (df_casen['sexo'] == 'Mujer')]['folio']).astype(int)\n",
    "\n",
    "# ** jefe trabajo semana pasada\n",
    "df_casen['jefe_trabajo_semana_pasada'] = df_casen['folio'].map(df_casen[df_casen['pco1'] == 'Jefe(a) de hogar'].set_index('folio')['o1'].eq('Sí')).fillna(False).astype(int)"
   ]
  },
  {
   "cell_type": "markdown",
   "metadata": {},
   "source": [
    "# VARIABLES CONTINUAS"
   ]
  },
  {
   "cell_type": "code",
   "execution_count": 20,
   "metadata": {},
   "outputs": [],
   "source": [
    "\n",
    "# ** educacion jefe de hogar\n",
    "df_casen['educacion_jefe_hogar'] = df_casen['folio'].map(df_casen[df_casen['pco1'] == 'Jefe(a) de hogar'].set_index('folio')['esc']).values\n",
    "\n",
    "# ** numero de personas en el hogar\n",
    "df_casen['numero_personas'] = df_casen['numper']\n",
    "\n",
    "# ** [numero de personas en el hogar]^2\n",
    "df_casen['numero_personas_2'] = df_casen['numper'] ** 2\n",
    "\n",
    "# ** [numero de personas en el hogar]^3\n",
    "df_casen['numero_personas_3'] = df_casen['numper'] ** 3\n",
    "\n",
    "# ** numero niños en en el hogar\n",
    "df_casen['numero_niños'] = df_casen['folio'].map(df_casen[df_casen['edad'].between(0, 14)].groupby('folio').size()).fillna(0).astype(int)\n",
    "\n",
    "# ** fraccion niños\n",
    "df_casen['fraccion_niños'] = df_casen['numero_niños'] / df_casen['numper']\n",
    "\n",
    "# ** numero habitaciones\n",
    "df_casen['numero_habitaciones'] = df_casen['v27a']\n",
    "df_casen[\"numero_habitaciones\"].replace(\"No sabe/no responde\", np.nan, inplace=True)\n",
    "df_casen[\"numero_habitaciones\"] = pd.to_numeric(df_casen[\"numero_habitaciones\"], errors='coerce')\n",
    "df_casen['numero_habitaciones'] = df_casen['numero_habitaciones'].apply(lambda x: min(x, 6))\n",
    "\n",
    "# ** numero ancianos\n",
    "df_casen['numero_ancianos'] = df_casen['folio'].map(df_casen[df_casen['edad'] > 65].groupby('folio').size()).fillna(0).astype(int)\n",
    "\n",
    "# ** fraccion ancianos\n",
    "df_casen['fraccion_ancianos'] = df_casen['numero_ancianos'] / df_casen['numper']\n",
    "\n",
    "# ** edad promedio hogar\n",
    "# Calcular la edad promedio por hogar\n",
    "edad_promedio_hogar = df_casen.groupby('folio')['edad'].mean()\n",
    "\n",
    "# Mapear la edad promedio al dataframe original\n",
    "df_casen['edad_promedio_hogar'] = df_casen['folio'].map(edad_promedio_hogar)\n",
    "\n",
    "# ** [edad promedio hogar]^2\n",
    "df_casen['edad_promedio_hogar_2'] = df_casen['edad_promedio_hogar'] ** 2\n",
    "\n",
    "# ** densidad hogar\n",
    "df_casen['densidad_hogar'] = df_casen['numero_personas'] / df_casen['numero_habitaciones']\n",
    "\n",
    "# ** educacion promedio hogar\n",
    "df_casen['educacion_promedio_hogar'] = df_casen['folio'].map(df_casen.groupby('folio')['esc'].mean())"
   ]
  },
  {
   "cell_type": "code",
   "execution_count": 21,
   "metadata": {},
   "outputs": [],
   "source": [
    "df_casen = df_casen[df_casen['numero_habitaciones'] > 0]"
   ]
  },
  {
   "cell_type": "code",
   "execution_count": 22,
   "metadata": {},
   "outputs": [],
   "source": [
    "agg_methods = {\n",
    "    'educacion_jefe_hogar': 'max',\n",
    "    'techo_zinc': 'max',\n",
    "    'techo_paja': 'max',\n",
    "    'hogar_urbano': 'max',\n",
    "    'paredes_ladrillo': 'max',\n",
    "    'paredes_madera': 'max',\n",
    "    'numero_personas': 'max',\n",
    "    'numero_personas_2': 'max',\n",
    "    'numero_niños': 'max',\n",
    "    'fraccion_niños': 'max',\n",
    "    'ypch': 'max',\n",
    "    'ytoth': 'max',\n",
    "    'ytotcorh': 'max',\n",
    "    'mujer_jefe_hogar': 'max',\n",
    "    'numero_habitaciones': 'max',\n",
    "    'densidad_hogar': 'max',\n",
    "    'numero_ancianos' : 'max',\n",
    "    'fraccion_ancianos': 'max',\n",
    "    'numero_personas_3': 'max',\n",
    "    'edad_promedio_hogar': 'max',\n",
    "    'edad_promedio_hogar_2': 'max',\n",
    "    'educacion_promedio_hogar': 'max',\n",
    "    'piso_radier': 'max',\n",
    "    'piso_madera': 'max',\n",
    "    'jefe_trabajo_semana_pasada': 'max'\n",
    "}\n",
    "\n",
    "df_hogares = df_casen.groupby(['folio']).agg(agg_methods).reset_index()"
   ]
  },
  {
   "cell_type": "markdown",
   "metadata": {},
   "source": [
    "# MODELOS ML"
   ]
  },
  {
   "cell_type": "code",
   "execution_count": 23,
   "metadata": {},
   "outputs": [],
   "source": [
    "df_hogares_regresion = df_hogares.copy()  # Se usa copy() para evitar cambios en el DataFrame original\n",
    "\n",
    "df_hogares_regresion = df_hogares_regresion.replace([np.inf, -np.inf], np.nan)\n",
    "\n",
    "# Se eliminan filas con valores NaN\n",
    "df_hogares_regresion.dropna(inplace=True, subset= ['educacion_jefe_hogar', 'numero_habitaciones', 'densidad_hogar', 'educacion_promedio_hogar'])\n",
    "\n",
    "df_hogares_regresion = df_hogares_regresion[df_hogares_regresion['ytotcorh'] > 0.0].copy()\n",
    "\n",
    "X = df_hogares_regresion[['educacion_jefe_hogar', 'techo_zinc', 'techo_paja', 'hogar_urbano',\n",
    "                'paredes_ladrillo', 'paredes_madera', 'numero_personas', 'numero_personas_2', \n",
    "                'numero_niños', 'fraccion_niños', 'mujer_jefe_hogar', 'numero_habitaciones',\n",
    "                'densidad_hogar', 'numero_ancianos', 'fraccion_ancianos', 'numero_personas_3',\n",
    "                'edad_promedio_hogar', 'edad_promedio_hogar_2', 'educacion_promedio_hogar', \n",
    "                'piso_radier', 'piso_madera', 'jefe_trabajo_semana_pasada']]\n",
    "\n",
    "\n",
    "# todas las columnas en X tipo float64\n",
    "X = X.astype('float64')"
   ]
  },
  {
   "cell_type": "markdown",
   "metadata": {},
   "source": [
    "## OLS"
   ]
  },
  {
   "cell_type": "code",
   "execution_count": 24,
   "metadata": {},
   "outputs": [
    {
     "name": "stdout",
     "output_type": "stream",
     "text": [
      "                            OLS Regression Results                            \n",
      "==============================================================================\n",
      "Dep. Variable:               ytotcorh   R-squared:                       0.464\n",
      "Model:                            OLS   Adj. R-squared:                  0.464\n",
      "Method:                 Least Squares   F-statistic:                     2586.\n",
      "Date:                Mon, 11 Dec 2023   Prob (F-statistic):               0.00\n",
      "Time:                        01:48:45   Log-Likelihood:                -58693.\n",
      "No. Observations:               70216   AIC:                         1.174e+05\n",
      "Df Residuals:                   70193   BIC:                         1.176e+05\n",
      "Df Model:                          22                                         \n",
      "Covariance Type:                  HC3                                         \n",
      "==============================================================================================\n",
      "                                 coef    std err          z      P>|z|      [0.025      0.975]\n",
      "----------------------------------------------------------------------------------------------\n",
      "const                         10.6728      0.040    266.309      0.000      10.594      10.751\n",
      "educacion_jefe_hogar           0.0061      0.001      6.167      0.000       0.004       0.008\n",
      "techo_zinc                    -0.1188      0.005    -24.745      0.000      -0.128      -0.109\n",
      "techo_paja                    -0.2815      0.153     -1.834      0.067      -0.582       0.019\n",
      "hogar_urbano                   0.0797      0.006     14.003      0.000       0.069       0.091\n",
      "paredes_ladrillo              -0.1035      0.007    -15.811      0.000      -0.116      -0.091\n",
      "paredes_madera                -0.1708      0.007    -24.519      0.000      -0.184      -0.157\n",
      "numero_personas                0.4704      0.025     18.582      0.000       0.421       0.520\n",
      "numero_personas_2             -0.0488      0.006     -7.641      0.000      -0.061      -0.036\n",
      "numero_niños                   0.0022      0.011      0.188      0.851      -0.020       0.025\n",
      "fraccion_niños                -0.2030      0.047     -4.333      0.000      -0.295      -0.111\n",
      "mujer_jefe_hogar              -0.0539      0.005    -11.551      0.000      -0.063      -0.045\n",
      "numero_habitaciones            0.0517      0.004     13.060      0.000       0.044       0.059\n",
      "densidad_hogar                -0.0577      0.008     -7.225      0.000      -0.073      -0.042\n",
      "numero_ancianos                0.0448      0.008      5.875      0.000       0.030       0.060\n",
      "fraccion_ancianos              0.0714      0.020      3.615      0.000       0.033       0.110\n",
      "numero_personas_3              0.0020      0.000      4.436      0.000       0.001       0.003\n",
      "edad_promedio_hogar            0.0258      0.001     29.038      0.000       0.024       0.028\n",
      "edad_promedio_hogar_2         -0.0002   8.89e-06    -18.073      0.000      -0.000      -0.000\n",
      "educacion_promedio_hogar       0.0852      0.001     67.370      0.000       0.083       0.088\n",
      "piso_radier                   -0.0529      0.010     -5.254      0.000      -0.073      -0.033\n",
      "piso_madera                    0.0752      0.005     15.194      0.000       0.066       0.085\n",
      "jefe_trabajo_semana_pasada     0.3058      0.006     52.457      0.000       0.294       0.317\n",
      "==============================================================================\n",
      "Omnibus:                     5525.856   Durbin-Watson:                   1.685\n",
      "Prob(Omnibus):                  0.000   Jarque-Bera (JB):            30917.373\n",
      "Skew:                          -0.134   Prob(JB):                         0.00\n",
      "Kurtosis:                       6.240   Cond. No.                     2.51e+05\n",
      "==============================================================================\n",
      "\n",
      "Notes:\n",
      "[1] Standard Errors are heteroscedasticity robust (HC3)\n",
      "[2] The condition number is large, 2.51e+05. This might indicate that there are\n",
      "strong multicollinearity or other numerical problems.\n"
     ]
    },
    {
     "data": {
      "text/plain": [
       "['modelos\\\\OLS_2017.pkl']"
      ]
     },
     "execution_count": 24,
     "metadata": {},
     "output_type": "execute_result"
    }
   ],
   "source": [
    "X = sm.add_constant(X)  # se agrega la constante de OLS\n",
    "\n",
    "# Definicion de la variable dependiente\n",
    "y = df_hogares_regresion['ytotcorh']\n",
    "\n",
    "# y tambien tipo float64\n",
    "y = y.astype('float64')\n",
    "\n",
    "y_log = np.log(y)\n",
    "\n",
    "# Ajuste del modelo de regresion\n",
    "model = sm.OLS(y_log, X).fit(cov_type='HC3')\n",
    "\n",
    "# resumen del modelo\n",
    "summary = model.summary()\n",
    "print(summary)\n",
    "# Guardar el modelo en un archivo\n",
    "dump(model, 'modelos\\OLS_2017.pkl')"
   ]
  },
  {
   "cell_type": "markdown",
   "metadata": {},
   "source": [
    "## LASSO"
   ]
  },
  {
   "cell_type": "code",
   "execution_count": 25,
   "metadata": {},
   "outputs": [
    {
     "name": "stdout",
     "output_type": "stream",
     "text": [
      "Fitting 5 folds for each of 7 candidates, totalling 35 fits\n",
      "Mejores hiperparámetros encontrados para Lasso:  {'alpha': 0.0001}\n",
      "Intercepto del mejor modelo Lasso: 10.670586875927949\n",
      "\n",
      "Coeficientes del mejor modelo Lasso:\n",
      "const: 0.0\n",
      "educacion_jefe_hogar: 0.00612453898786581\n",
      "techo_zinc: -0.11853035960303704\n",
      "techo_paja: -0.0\n",
      "hogar_urbano: 0.07922584380290962\n",
      "paredes_ladrillo: -0.10207953578789933\n",
      "paredes_madera: -0.16948340471794038\n",
      "numero_personas: 0.464614865927765\n",
      "numero_personas_2: -0.04758018302994231\n",
      "numero_niños: -0.0055334027224660165\n",
      "fraccion_niños: -0.16669207574505002\n",
      "mujer_jefe_hogar: -0.05388173192614696\n",
      "numero_habitaciones: 0.05219295712799875\n",
      "densidad_hogar: -0.05631806671297088\n",
      "numero_ancianos: 0.04598219049958878\n",
      "fraccion_ancianos: 0.06465437030788472\n",
      "numero_personas_3: 0.0019545527906276645\n",
      "edad_promedio_hogar: 0.025866519777301103\n",
      "edad_promedio_hogar_2: -0.00016047010317535006\n",
      "educacion_promedio_hogar: 0.08524307982326973\n",
      "piso_radier: -0.05118434313300953\n",
      "piso_madera: 0.07493554525781715\n",
      "jefe_trabajo_semana_pasada: 0.3050331641982237\n",
      "\n",
      "R-cuadrado del modelo Lasso con validación cruzada: 0.44517891205737403\n"
     ]
    }
   ],
   "source": [
    "# Definicion del espacio de hiperparametros para Lasso\n",
    "param_grid_lasso = {\n",
    "    'alpha': [1e-4, 1e-3, 1e-2, 1e-1, 1, 10, 100],\n",
    "}\n",
    "\n",
    "# Modelo Lasso\n",
    "lasso_model = Lasso(max_iter=10000)\n",
    "\n",
    "# Grid search para Lasso\n",
    "grid_search_lasso = GridSearchCV(estimator=lasso_model, param_grid=param_grid_lasso, cv=5, n_jobs=-1, verbose=2)\n",
    "\n",
    "# Ajustar el modelo utilizando el Grid Search\n",
    "grid_search_lasso.fit(X, y_log)\n",
    "\n",
    "# Mejor modelo Lasso despues de la busqueda en cuadricula\n",
    "best_lasso_model = grid_search_lasso.best_estimator_\n",
    "\n",
    "print(\"Mejores hiperparametros encontrados para Lasso: \", grid_search_lasso.best_params_)\n",
    "\n",
    "# Obtener las predicciones con el mejor modelo usando validacion cruzada\n",
    "y_log_pred_lasso = cross_val_predict(best_lasso_model, X, y_log, cv=5)\n",
    "\n",
    "# R^2 para Lasso\n",
    "r2_lasso = r2_score(y_log, y_log_pred_lasso)\n",
    "\n",
    "# Ajustar el mejor modelo Lasso al conjunto de datos completo\n",
    "best_lasso_model.fit(X, y_log)\n",
    "\n",
    "print(\"Intercepto del mejor modelo Lasso:\", best_lasso_model.intercept_)\n",
    "print(\"\\nCoeficientes del mejor modelo Lasso:\")\n",
    "for coef, feature in zip(best_lasso_model.coef_, X.columns):\n",
    "    print(f\"{feature}: {coef}\")\n",
    "\n",
    "print(\"\\nR-cuadrado del modelo Lasso con validacion cruzada:\", r2_lasso)"
   ]
  },
  {
   "cell_type": "markdown",
   "metadata": {},
   "source": [
    "## RANDOM FOREST"
   ]
  },
  {
   "cell_type": "code",
   "execution_count": 26,
   "metadata": {},
   "outputs": [],
   "source": [
    "X = X.drop('const', axis=1)  # Sacamos la constante de OLS"
   ]
  },
  {
   "cell_type": "code",
   "execution_count": 27,
   "metadata": {},
   "outputs": [
    {
     "name": "stdout",
     "output_type": "stream",
     "text": [
      "Fitting 5 folds for each of 100 candidates, totalling 500 fits\n",
      "Mejores hiperparámetros encontrados:  {'n_estimators': 200, 'min_samples_split': 10, 'min_samples_leaf': 4, 'max_features': 'sqrt', 'max_depth': 40}\n",
      "\n",
      "Importancia de las características:\n",
      "educacion_promedio_hogar: 0.2390129459931674\n",
      "educacion_jefe_hogar: 0.1761334342706579\n",
      "edad_promedio_hogar_2: 0.06986687842775953\n",
      "edad_promedio_hogar: 0.06782681992623202\n",
      "numero_personas_3: 0.056640277464367395\n",
      "numero_personas: 0.05587365568346177\n",
      "jefe_trabajo_semana_pasada: 0.05315815123986081\n",
      "numero_habitaciones: 0.05309068161145577\n",
      "numero_personas_2: 0.05238668033054868\n",
      "densidad_hogar: 0.02877284003855752\n",
      "techo_zinc: 0.025981574805629848\n",
      "paredes_madera: 0.021336656087452544\n",
      "fraccion_niños: 0.016708849905994923\n",
      "mujer_jefe_hogar: 0.015747069101395433\n",
      "hogar_urbano: 0.015547828513977081\n",
      "piso_madera: 0.015343340086266338\n",
      "fraccion_ancianos: 0.009898305594285934\n",
      "paredes_ladrillo: 0.008723678963744338\n",
      "numero_niños: 0.007930892213060658\n",
      "numero_ancianos: 0.0070760706552348875\n",
      "piso_radier: 0.0029433690868890406\n",
      "techo_paja: 0.0\n",
      "\n",
      "R-cuadrado del modelo Random Forest con el mejor modelo: 0.6643450480778608\n"
     ]
    }
   ],
   "source": [
    "# Definicion de la cuadricula de parametros para la busqueda\n",
    "param_distributions = {\n",
    "    'n_estimators': [10, 50, 100, 200],\n",
    "    'max_features': ['auto', 'sqrt'],\n",
    "    'max_depth': [10, 20, 30, 40, 50, None],\n",
    "    'min_samples_split': [2, 5, 10],\n",
    "    'min_samples_leaf': [1, 2, 4]\n",
    "}\n",
    "\n",
    "# Random Forest con un estado aleatorio para reproducibilidad\n",
    "rf_model = RandomForestRegressor(random_state=42, oob_score=True)\n",
    "\n",
    "rf_model.fit(X, y_log)\n",
    "\n",
    "# Cálculo de errores OOB y desviacion estandar\n",
    "oob_errors = abs(y_log - rf_model.oob_prediction_)\n",
    "error_std = np.std(oob_errors)\n",
    "\n",
    "# Busqueda aleatoria con validacion cruzada\n",
    "random_search = RandomizedSearchCV(estimator=rf_model, param_distributions=param_distributions, n_iter=100, cv=5, n_jobs=-1, verbose=2, random_state=42)\n",
    "random_search.fit(X, y_log)\n",
    "\n",
    "# Mejor modelo Random Forest despues de RandomizedSearchCV\n",
    "best_rf_model = random_search.best_estimator_\n",
    "\n",
    "# Prediccion con el mejor modelo\n",
    "y_log_pred_rf = best_rf_model.predict(X)\n",
    "\n",
    "# Cálculo de R^2\n",
    "r2_rf = r2_score(y_log, y_log_pred_rf)\n",
    "\n",
    "# Importancia de las caracteristicas\n",
    "feature_importances = best_rf_model.feature_importances_\n",
    "\n",
    "print(\"Mejores hiperparametros encontrados: \", random_search.best_params_)\n",
    "\n",
    "print(\"\\nImportancia de las caracteristicas:\")\n",
    "for importance, feature in sorted(zip(feature_importances, X.columns), reverse=True):\n",
    "    print(f\"{feature}: {importance}\")\n",
    "\n",
    "print(\"\\nR-cuadrado del modelo Random Forest con el mejor modelo:\", r2_rf)"
   ]
  },
  {
   "cell_type": "code",
   "execution_count": 28,
   "metadata": {},
   "outputs": [
    {
     "data": {
      "text/plain": [
       "['modelos/modelo_rf_oob_2017.joblib']"
      ]
     },
     "execution_count": 28,
     "metadata": {},
     "output_type": "execute_result"
    }
   ],
   "source": [
    "dump(error_std, 'modelos/error_std.joblib')\n",
    "dump(best_rf_model, 'modelos/modelo_rf_oob_2017.joblib')"
   ]
  },
  {
   "cell_type": "markdown",
   "metadata": {},
   "source": [
    "## XGBOOST"
   ]
  },
  {
   "cell_type": "code",
   "execution_count": 29,
   "metadata": {},
   "outputs": [
    {
     "name": "stdout",
     "output_type": "stream",
     "text": [
      "Fitting 5 folds for each of 100 candidates, totalling 500 fits\n",
      "Mejores hiperparametros encontrados para XGBoost:  {'subsample': 0.9, 'n_estimators': 300, 'max_depth': 4, 'learning_rate': 0.1, 'colsample_bytree': 0.9}\n",
      "Pesos de las caracteristicas para XGBoost:\n",
      "numero_personas_3: 0.25294747948646545\n",
      "numero_personas_2: 0.14604170620441437\n",
      "educacion_promedio_hogar: 0.11265992373228073\n",
      "numero_personas: 0.09400477260351181\n",
      "jefe_trabajo_semana_pasada: 0.06718194484710693\n",
      "numero_habitaciones: 0.04496609792113304\n",
      "techo_zinc: 0.04089939966797829\n",
      "educacion_jefe_hogar: 0.03942055255174637\n",
      "paredes_madera: 0.03761685639619827\n",
      "numero_ancianos: 0.02999485470354557\n",
      "mujer_jefe_hogar: 0.026158291846513748\n",
      "hogar_urbano: 0.02570302039384842\n",
      "fraccion_niños: 0.018939871340990067\n",
      "piso_madera: 0.014506948180496693\n",
      "edad_promedio_hogar: 0.013406612910330296\n",
      "edad_promedio_hogar_2: 0.008789343759417534\n",
      "fraccion_ancianos: 0.00798605103045702\n",
      "piso_radier: 0.006841307505965233\n",
      "densidad_hogar: 0.006065054796636105\n",
      "paredes_ladrillo: 0.003127115312963724\n",
      "numero_niños: 0.002073921961709857\n",
      "techo_paja: 0.0006687746499665082\n",
      "\n",
      "R-cuadrado del modelo XGBoost con validacion cruzada: 0.5147095820069694\n"
     ]
    }
   ],
   "source": [
    "\n",
    "# Definicion del espacio de hiperparametros para XGBoost\n",
    "param_distributions_xgb = {\n",
    "    'n_estimators': [50, 100, 200, 300],\n",
    "    'learning_rate': [0.01, 0.05, 0.1, 0.2],\n",
    "    'max_depth': [3, 4, 5, 6, 7],\n",
    "    'subsample': [0.8, 0.9, 1.0],\n",
    "    'colsample_bytree': [0.8, 0.9, 1.0]\n",
    "}\n",
    "\n",
    "# Definicion del modelo inicial\n",
    "xgb_model = xgb.XGBRegressor(objective='reg:squarederror')\n",
    "\n",
    "# Busqueda aleatoria para XGBoost\n",
    "random_search_xgb = RandomizedSearchCV(estimator=xgb_model, param_distributions=param_distributions_xgb, n_iter=100, cv=5, n_jobs=-1, verbose=2, random_state=42)\n",
    "random_search_xgb.fit(X, y_log)\n",
    "\n",
    "# Mejor modelo XGBoost despues de RandomizedSearchCV\n",
    "best_xgb_model = random_search_xgb.best_estimator_\n",
    "\n",
    "print(\"Mejores hiperparametros encontrados para XGBoost: \", random_search_xgb.best_params_)\n",
    "\n",
    "# Obtener las predicciones con el mejor modelo usando validacion cruzada\n",
    "y_log_pred_xgb = cross_val_predict(best_xgb_model, X, y_log, cv=5)\n",
    "\n",
    "# R^2 para XGBoost\n",
    "r2_xgb = r2_score(y_log, y_log_pred_xgb)\n",
    "\n",
    "# Ajustar el mejor modelo al conjunto de datos completo\n",
    "best_xgb_model.fit(X, y_log)\n",
    "feature_importances_xgb = best_xgb_model.feature_importances_\n",
    "\n",
    "print(\"Pesos de las caracteristicas para XGBoost:\")\n",
    "for importance, feature in sorted(zip(feature_importances_xgb, X.columns), reverse=True):\n",
    "    print(f\"{feature}: {importance}\")\n",
    "\n",
    "print(\"\\nR-cuadrado del modelo XGBoost con validacion cruzada:\", r2_xgb)"
   ]
  }
 ],
 "metadata": {
  "kernelspec": {
   "display_name": "Python 3",
   "language": "python",
   "name": "python3"
  },
  "language_info": {
   "codemirror_mode": {
    "name": "ipython",
    "version": 3
   },
   "file_extension": ".py",
   "mimetype": "text/x-python",
   "name": "python",
   "nbconvert_exporter": "python",
   "pygments_lexer": "ipython3",
   "version": "3.10.10"
  }
 },
 "nbformat": 4,
 "nbformat_minor": 2
}
